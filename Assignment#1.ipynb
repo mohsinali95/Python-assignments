{
  "metadata": {
    "colab": {
      "name": "Assignment.ipynb",
      "provenance": [],
      "collapsed_sections": []
    },
    "kernelspec": {
      "name": "python",
      "display_name": "Python (Pyodide)",
      "language": "python"
    },
    "language_info": {
      "codemirror_mode": {
        "name": "python",
        "version": 3
      },
      "file_extension": ".py",
      "mimetype": "text/x-python",
      "name": "python",
      "nbconvert_exporter": "python",
      "pygments_lexer": "ipython3",
      "version": "3.8"
    }
  },
  "nbformat_minor": 4,
  "nbformat": 4,
  "cells": [
    {
      "cell_type": "markdown",
      "source": "**Grand Assignment**",
      "metadata": {
        "id": "Hs3-rqQLaMOs"
      }
    },
    {
      "cell_type": "markdown",
      "source": "***Variables and Strings***",
      "metadata": {
        "id": "yoFPv_Hcb3Iv"
      }
    },
    {
      "cell_type": "markdown",
      "source": "*1.**Simple Message:** Assign a message to a variable, and then print that\nmessage.* ",
      "metadata": {
        "id": "XLAWmJh_b9vr"
      }
    },
    {
      "cell_type": "code",
      "source": "message = \"I am about to learn AI soon.\"\nprint(message)",
      "metadata": {
        "id": "Xu9FoVk1aKtu",
        "trusted": true
      },
      "execution_count": 1,
      "outputs": [
        {
          "name": "stdout",
          "text": "I am about to learn AI soon.\n",
          "output_type": "stream"
        }
      ]
    },
    {
      "cell_type": "markdown",
      "source": "2.Find a quote from a famous person you admire. Print the\nquote and the name of its author. Your output should look something like the\nfollowing, including the quotation marks:\n\n**Albert Einstein once said, “A person who never made a\nmistake never tried anything new.”**\n",
      "metadata": {
        "id": "Ckp41qGzcMhY"
      }
    },
    {
      "cell_type": "code",
      "source": "print(\"Nikola Tesla once said, \\\"Be alone, that is the secret of invention; be alone, that is when ideas are born.\\\"\")",
      "metadata": {
        "id": "RAOYKTZDc9l5",
        "trusted": true
      },
      "execution_count": 2,
      "outputs": [
        {
          "name": "stdout",
          "text": "Nikola Tesla once said, \"Be alone, that is the secret of invention; be alone, that is when ideas are born.\"\n",
          "output_type": "stream"
        }
      ]
    },
    {
      "cell_type": "markdown",
      "source": "*3. Use a variable to represent your favorite number. Then,\nusing that variable, create a message that reveals your favorite number. Print\nthat message*",
      "metadata": {
        "id": "5dsWBIrAduRU"
      }
    },
    {
      "cell_type": "code",
      "source": "favorite_number = 15\nprint(\"My favorite Number is: \"+str(favorite_number))",
      "metadata": {
        "id": "n5bKUt2Xdxet",
        "trusted": true
      },
      "execution_count": 3,
      "outputs": [
        {
          "name": "stdout",
          "text": "My favorite Number is: 15\n",
          "output_type": "stream"
        }
      ]
    },
    {
      "cell_type": "markdown",
      "source": "4. **Calculate Area of a Circle::**\n\nWrite a Python program which accepts the radius of a circle from the user and compute the area.\n\nProgram Console Sample Output 1:\n\nInput Radius: 0.5\n\nArea of Circle with radius 0.5 is 0.7853981634",
      "metadata": {
        "id": "03-7JmJFh1gu"
      }
    },
    {
      "cell_type": "code",
      "source": "PI = 3.142\nradius = float(input())\nprint(\"Input Radius\", radius)\narea = PI*(radius*radius)\nprint(\"Area of Circle with radius \"+str(radius)+\" is \"+str(area))",
      "metadata": {
        "id": "ZQqUhli7iD8V",
        "trusted": true
      },
      "execution_count": 13,
      "outputs": [
        {
          "name": "stderr",
          "text": "Future exception was never retrieved\nfuture: <Future finished exception=JsException(TypeError: Cannot read properties of null (reading 'sendInputRequest'))>\n",
          "output_type": "stream"
        },
        {
          "ename": "<class 'TypeError'>",
          "evalue": "float() argument must be a string or a real number, not 'Future'",
          "traceback": [
            "\u001b[0;31m---------------------------------------------------------------------------\u001b[0m",
            "\u001b[0;31mTypeError\u001b[0m                                 Traceback (most recent call last)",
            "Input \u001b[0;32mIn [14]\u001b[0m, in \u001b[0;36m<cell line: 1>\u001b[0;34m()\u001b[0m\n\u001b[0;32m----> 1\u001b[0m radius \u001b[38;5;241m=\u001b[39m \u001b[38;5;28;43mfloat\u001b[39;49m\u001b[43m(\u001b[49m\u001b[38;5;28;43minput\u001b[39;49m\u001b[43m(\u001b[49m\u001b[38;5;124;43m\"\u001b[39;49m\u001b[38;5;124;43mPlease enter circle radius: \u001b[39;49m\u001b[38;5;124;43m\"\u001b[39;49m\u001b[43m)\u001b[49m\u001b[43m)\u001b[49m\n\u001b[1;32m      2\u001b[0m \u001b[38;5;28mprint\u001b[39m(\u001b[38;5;124m\"\u001b[39m\u001b[38;5;124mInput Radius: \u001b[39m\u001b[38;5;124m\"\u001b[39m,radius)\n\u001b[1;32m      3\u001b[0m \u001b[38;5;28mprint\u001b[39m(\u001b[38;5;124m\"\u001b[39m\u001b[38;5;124mArea of cicle with radius\u001b[39m\u001b[38;5;124m\"\u001b[39m, radius,\u001b[38;5;124m'\u001b[39m\u001b[38;5;124mis\u001b[39m\u001b[38;5;124m'\u001b[39m, \u001b[38;5;241m3.142\u001b[39m \u001b[38;5;241m*\u001b[39m (radius\u001b[38;5;241m*\u001b[39m\u001b[38;5;241m*\u001b[39m\u001b[38;5;241m2\u001b[39m))\n",
            "\u001b[0;31mTypeError\u001b[0m: float() argument must be a string or a real number, not 'Future'"
          ],
          "output_type": "error"
        }
      ]
    },
    {
      "cell_type": "markdown",
      "source": "5. **Check Number either positive, negative or zero::**\n\nWrite a Python program to check if a number is positive, \n\nnegative or zero\n\nProgram Console Sample Output 1:\n\nEnter Number: -1\n\nNegative Number Entered\n\nProgram Console Sample Output 2:\n\nInteger: 3\n\nPositive Number Entered\n\nProgram Console Sample Output 3:\n\nInteger: 0\n\nZero Entered",
      "metadata": {
        "id": "_52LUHoriEdK"
      }
    },
    {
      "cell_type": "code",
      "source": "number = 12\nif number < 0:\n    print(\"Negative Number Entered\")\nelif number > 0:\n    print(\"Positive Number Entered\")\nelse:\n    print(\"Zero Entered\")",
      "metadata": {
        "id": "_yLJAc80iXk0",
        "trusted": true
      },
      "execution_count": 9,
      "outputs": [
        {
          "name": "stdout",
          "text": "Positive Number Entered\n",
          "output_type": "stream"
        }
      ]
    },
    {
      "cell_type": "markdown",
      "source": "6. **Vowel Tester**\nWrite a Python program to test whether a passed letter is a vowel or not\n\nProgram Console Output 1:\n\nEnter a character: A\n\nLetter A is Vowel\n\nProgram Console Output 2:\n\nEnter a character: e\n\nLetter e is Vowel\n\nProgram Console Output 2:\n\nEnter a character: N\n\nLetter N is not Vowel.",
      "metadata": {
        "id": "vjXA6uhpiYQX"
      }
    },
    {
      "cell_type": "code",
      "source": "letter = \"a\"\nvowels = ['a','e','i','o','u','A','E','I','O','U']\n\nif letter in vowels:\n    print(\"Letter \",letter,\" is a vowel\")\nelse:\n    print(\"Letter \",letter,\" is not a vowel\")",
      "metadata": {
        "id": "L62zqtG1jEb9",
        "trusted": true
      },
      "execution_count": 15,
      "outputs": [
        {
          "name": "stdout",
          "text": "Letter  a  is a vowel\n",
          "output_type": "stream"
        }
      ]
    },
    {
      "cell_type": "markdown",
      "source": "7. **BMI Calculator**\n\nWrite a Python program to calculate body mass index\nProgram Console Sample 1:\n\nEnter Height in Cm: 180\n\nEnter Weight in Kg: 75\n\nYour BMI is 23.15",
      "metadata": {
        "id": "qZIGjsnDjFdk"
      }
    },
    {
      "cell_type": "code",
      "source": "weight = 74\nheight = 175\n\nBMI = weight/((height/ 100)**2)\n\nprint(\"Your BMI is \",BMI)",
      "metadata": {
        "id": "lE-JyyTnjcJU",
        "trusted": true
      },
      "execution_count": 17,
      "outputs": [
        {
          "name": "stdout",
          "text": "Your BMI is  24.163265306122447\n",
          "output_type": "stream"
        }
      ]
    },
    {
      "cell_type": "markdown",
      "source": "**List::**",
      "metadata": {
        "id": "11fYzZYid3qq"
      }
    },
    {
      "cell_type": "markdown",
      "source": "8. **Store the names of a few of your friends in a list called names**\n\n Print each person’s name by accessing each element in the list, one at a time.",
      "metadata": {
        "id": "oUNnrKdyeOks"
      }
    },
    {
      "cell_type": "code",
      "source": "friends = [\"Noman\",\"Maaz\",\"Zaid\",\"Muneed\"]\nfor friend in friends:\n    print(friend)",
      "metadata": {
        "id": "RY49qmHQeOGB",
        "trusted": true
      },
      "execution_count": 18,
      "outputs": [
        {
          "name": "stdout",
          "text": "Noman\nMaaz\nZaid\nMuneed\n",
          "output_type": "stream"
        }
      ]
    },
    {
      "cell_type": "markdown",
      "source": "9. Start with the list you used in Question 4, but instead of just  printing each person’s name, print a message to them. The text of each message should be the same, but each message should be personalized with the\nperson’s name.",
      "metadata": {
        "id": "HQe4CmBLd0a0"
      }
    },
    {
      "cell_type": "code",
      "source": "\nfor friend in friends:\n    print(friend,'is my friend')",
      "metadata": {
        "id": "QfaA6SZieroG",
        "trusted": true
      },
      "execution_count": 19,
      "outputs": [
        {
          "name": "stdout",
          "text": "Noman is my friend\nMaaz is my friend\nZaid is my friend\nMuneed is my friend\n",
          "output_type": "stream"
        }
      ]
    },
    {
      "cell_type": "markdown",
      "source": " 10.**Make a python program that conatains your nine favourite dishes in a list called foods.**\nPrint the message, The first three items in the list are:\n\nThen use a slice to print the first three items from that program’s list.\n\nPrint the message, Three items from the middle of the list are:\n\nUse a slice to print three items from the middle of the list.\n\nPrint the message, The last three items in the list are:\n\nUse a slice to print the last three items in the list.",
      "metadata": {
        "id": "3t-zoTSTesyI"
      }
    },
    {
      "cell_type": "code",
      "source": "dishes = [\"Dish_1\",\"Dish_2\",\"Dish_3\",\"Dish_4\",\"Dish_5\",\"Dish_6\",\"Dish_7\",\"Dish_8\",\"Dish_9\"]\n\n\nprint(\"First 3 items are:\" , ', '.join(dishes[:3]))\nprint(\"Middle 3 items are:\" , ', '.join(dishes[3:6]))\nprint(\"Last 3 items are:\" , ', '.join(dishes[-3:]))",
      "metadata": {
        "id": "ZpnPQbgAmQhu",
        "trusted": true
      },
      "execution_count": 21,
      "outputs": [
        {
          "name": "stdout",
          "text": "First 3 items are: Dish_1, Dish_2, Dish_3\nMiddle 3 items are: Dish_4, Dish_5, Dish_6\nLast 3 items are: Dish_7, Dish_8, Dish_9\n",
          "output_type": "stream"
        }
      ]
    },
    {
      "cell_type": "markdown",
      "source": "11. **Start with your program from your last Question8.**\nMake a copy of the list of foods, and call it friend_foods.\nThen, do the following:\n\nAdd a new dish to the original list.\n\nAdd a different dish to the list friend_foods.\n\nProve that you have two separate lists.\n\nPrint the message, My favorite pizzas are: and then use a for loop to print the first list.\n\nPrint the message,\n\nMy friend’s favorite foods are:, and then use a for loop to print the second list.\n\nNOTE: Make sure each new dish is stored in the appropriate list.",
      "metadata": {
        "id": "h37WaaZKmRMe"
      }
    },
    {
      "cell_type": "code",
      "source": "friend_foods = dishes.copy()\ndishes.append(\"new_dish\")\nfriend_foods.append(\"friend_dish\")\nprint(\"My Favorite pizzas are:\")\nfor dish in dishes:\n    print(dish)\n\nprint(\"My friend’s favorite foods are:\")\nfor friend_food in friend_foods:\n    print(friend_food)",
      "metadata": {
        "id": "6FvxV2CioBQB",
        "trusted": true
      },
      "execution_count": 22,
      "outputs": [
        {
          "name": "stdout",
          "text": "My Favorite pizzas are:\nDish_1\nDish_2\nDish_3\nDish_4\nDish_5\nDish_6\nDish_7\nDish_8\nDish_9\nnew_dish\nMy friend’s favorite foods are:\nDish_1\nDish_2\nDish_3\nDish_4\nDish_5\nDish_6\nDish_7\nDish_8\nDish_9\nfriend_dish\n",
          "output_type": "stream"
        }
      ]
    },
    {
      "cell_type": "code",
      "source": "",
      "metadata": {},
      "execution_count": null,
      "outputs": []
    }
  ]
}